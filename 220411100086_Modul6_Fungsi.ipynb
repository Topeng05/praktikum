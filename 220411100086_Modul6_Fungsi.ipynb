{
  "nbformat": 4,
  "nbformat_minor": 0,
  "metadata": {
    "colab": {
      "provenance": [],
      "collapsed_sections": [],
      "authorship_tag": "ABX9TyNH7YF63IP60Uou4qna2c1X",
      "include_colab_link": true
    },
    "kernelspec": {
      "name": "python3",
      "display_name": "Python 3"
    },
    "language_info": {
      "name": "python"
    }
  },
  "cells": [
    {
      "cell_type": "markdown",
      "metadata": {
        "id": "view-in-github",
        "colab_type": "text"
      },
      "source": [
        "<a href=\"https://colab.research.google.com/github/Topeng05/praktikum/blob/main/220411100086_Modul6_Fungsi.ipynb\" target=\"_parent\"><img src=\"https://colab.research.google.com/assets/colab-badge.svg\" alt=\"Open In Colab\"/></a>"
      ]
    },
    {
      "cell_type": "markdown",
      "source": [
        "#1 Fungsi"
      ],
      "metadata": {
        "id": "_RMZ-aer4sWv"
      }
    },
    {
      "cell_type": "markdown",
      "source": [
        "Tulis ringkasan atau penjelasan hal-hal berikut, dengan kata-kata kalian sendiri :\n",
        "1. Sebutkan alasan kenapa kita harus menggunakan Fungsi (Function), jika perlu tambahkan contoh\n",
        "2. Sebutkan Jenis Fungsi dan perbedaannya, syntax umum dari fungsi tersebut, berikan contoh"
      ],
      "metadata": {
        "id": "d9fHpuUY474c"
      }
    },
    {
      "cell_type": "markdown",
      "source": [
        "Jawab :\n",
        "\n",
        "1. Alasan menggunakan fungsi:\n",
        "\n",
        "- Karena dengan menggunakan syntax fungsi (def) maka code yang kita buat dapat dipanggil berkali kali.\n",
        "\n",
        "- Baris code yang kita buat akan lebih sedikit dan ringkas.\n",
        "\n",
        "- Code akan lebih mudah untuk dibaca, di-update, di edit, serta cek error."
      ],
      "metadata": {
        "id": "7bSo1Jdu8CBp"
      }
    },
    {
      "cell_type": "markdown",
      "source": [
        "2. Jenis fungsi :\n",
        "- Tanpa argument, tanpa return value\n",
        "- Dengan parameter/argument\n",
        "- Dengan parameter/argument serta return value\n",
        "\n",
        "Perbedaannya dapat dilihat di bawah ini :"
      ],
      "metadata": {
        "id": "DtfP5kLc9rmw"
      }
    },
    {
      "cell_type": "code",
      "source": [
        "#syntax umum fungsi\n",
        "\n",
        "def NamaFungsi():\n",
        "  syntax_1\n",
        "  syntax_2"
      ],
      "metadata": {
        "id": "_WgbpIQlhggp"
      },
      "execution_count": null,
      "outputs": []
    },
    {
      "cell_type": "code",
      "source": [
        "#contoh fungsi tanpa argumen\n",
        "\n",
        "def displayText():\n",
        "  print('Ali Syamsuddin')\n",
        "displayText()"
      ],
      "metadata": {
        "colab": {
          "base_uri": "https://localhost:8080/"
        },
        "id": "HAo8YbcAiwWC",
        "outputId": "7016c813-db54-4417-c271-cfc763a08f78"
      },
      "execution_count": null,
      "outputs": [
        {
          "output_type": "stream",
          "name": "stdout",
          "text": [
            "Ali Syamsuddin\n"
          ]
        }
      ]
    },
    {
      "cell_type": "code",
      "source": [
        "#syntax fungsi dengan parameter/argument\n",
        "\n",
        "def namaFungsi(argument1,argument2,...,argument-n):\n",
        "  syntax\n",
        "  syntax"
      ],
      "metadata": {
        "id": "EJrCJL9djq2R"
      },
      "execution_count": null,
      "outputs": []
    },
    {
      "cell_type": "code",
      "source": [
        "#contoh fungsi dengan parameter/argument\n",
        "\n",
        "def penjumlahan(bil1,bil2):\n",
        "  hasil=bil1+bil2\n",
        "  print(hasil)\n",
        "penjumlahan(4,2)"
      ],
      "metadata": {
        "colab": {
          "base_uri": "https://localhost:8080/"
        },
        "id": "Y50T78sEkMhl",
        "outputId": "1647a9ea-d1a0-4377-f171-3eab9be5920c"
      },
      "execution_count": null,
      "outputs": [
        {
          "output_type": "stream",
          "name": "stdout",
          "text": [
            "6\n"
          ]
        }
      ]
    },
    {
      "cell_type": "code",
      "source": [
        "#syntax fungsi dengan argument serta return value\n",
        "\n",
        "def namaFungsi(argument1,...,argument-n):\n",
        "  syntax\n",
        "  syntax\n",
        "  return value"
      ],
      "metadata": {
        "id": "PBw7ihZAktDK"
      },
      "execution_count": null,
      "outputs": []
    },
    {
      "cell_type": "code",
      "source": [
        "#contoh fungsi dengan argument serta return value\n",
        "\n",
        "def penjumlahan(bil1,bil2):\n",
        "  hasil=bil1+bil2\n",
        "  print(hasil)\n",
        "  return hasil\n",
        "print(penjumlahan(4,5)*3)"
      ],
      "metadata": {
        "colab": {
          "base_uri": "https://localhost:8080/"
        },
        "id": "uSY9FXRHlHQI",
        "outputId": "314bd7b4-df57-4fb5-9373-be9677d0433d"
      },
      "execution_count": null,
      "outputs": [
        {
          "output_type": "stream",
          "name": "stdout",
          "text": [
            "9\n",
            "27\n"
          ]
        }
      ]
    },
    {
      "cell_type": "markdown",
      "source": [
        "#2 Implementasi"
      ],
      "metadata": {
        "id": "dTqdsfeZ49OK"
      }
    },
    {
      "cell_type": "markdown",
      "source": [
        "#2.1 Cek List\n",
        "\n",
        "Buatlah Fungsi dan code untuk memanggil fungsi dengan menggunakan Python, antara lain :\n",
        "\n",
        "- Fungsi createList untuk membentuk suatu list dengan parameter atau argumen berupa ukuran list\n",
        "\n",
        "- Fungsi isPrime untuk menentukan apakah suatu bilangan adalah bilangan prima, dengan argumen\n",
        "adalah bilangan yang akan dicek\n",
        "\n",
        "- Fungsi createListPrime untuk membuat suatu list yang berisi bilangan prima, dengan ketentuan :\n",
        "\n",
        " – argumen atau paramater adalah list dimana di setiap anggotanya akan dicek termasuk bilangan\n",
        "prima ataukah tidak\n",
        "\n",
        " – gunakan fungsi isPrime yang sudah dibuat, untuk cek apakah suatu bilangan adalah bilangan\n",
        "prima\n",
        "\n",
        " – anggota-anggota list yang dihasilkan dari fungsi ini, tidak boleh sama [Hint: gunakan in]\n",
        "\n",
        "Contoh output yang dihasilkan dapat dilihat pada Gambar 1."
      ],
      "metadata": {
        "id": "40eyy4ig5N1D"
      }
    },
    {
      "cell_type": "code",
      "source": [
        "# (a) Size List Utama = 10\n",
        "\n",
        "def createList(ukuran):\n",
        "    list=[]\n",
        "    for x in range(ukuran):\n",
        "        data=int(input('Masukkan data ke - '+str(x)+' : '))\n",
        "        list.append(data)\n",
        "    return list\n",
        "    \n",
        "def isPrime(nomer):\n",
        "    nilai=0\n",
        "    for y in range (1,nomer+1):\n",
        "        if nomer%y==0:\n",
        "            nilai+=1\n",
        "    if nilai==2:\n",
        "        return True\n",
        "    else:\n",
        "        return False\n",
        "        \n",
        "def createListPrime(list):\n",
        "    prima=[]\n",
        "    for z in range (len(list)):\n",
        "         isprime=isPrime(list[z])\n",
        "         if isprime==True:\n",
        "             if list[z] not in prima:\n",
        "                 prima.append(list[z])\n",
        "    return prima\n",
        "    \n",
        "data=createList(10)\n",
        "print('data list = ',data)\n",
        "prima=createListPrime(data)\n",
        "print('data prima = ',prima)"
      ],
      "metadata": {
        "id": "-tiAzT3N9AL2",
        "colab": {
          "base_uri": "https://localhost:8080/"
        },
        "outputId": "afefdb64-9f44-4d1e-beda-7657f26aa9f6"
      },
      "execution_count": null,
      "outputs": [
        {
          "output_type": "stream",
          "name": "stdout",
          "text": [
            "Masukkan data ke - 0 : 7\n",
            "Masukkan data ke - 1 : 2\n",
            "Masukkan data ke - 2 : 4\n",
            "Masukkan data ke - 3 : 6\n",
            "Masukkan data ke - 4 : 5\n",
            "Masukkan data ke - 5 : 2\n",
            "Masukkan data ke - 6 : 9\n",
            "Masukkan data ke - 7 : 5\n",
            "Masukkan data ke - 8 : 8\n",
            "Masukkan data ke - 9 : 1\n",
            "data list =  [7, 2, 4, 6, 5, 2, 9, 5, 8, 1]\n",
            "data prima =  [7, 2, 5]\n"
          ]
        }
      ]
    },
    {
      "cell_type": "code",
      "source": [
        "# (b) Size List Utama = 15\n",
        "\n",
        "def createList(ukuran):\n",
        "    list=[]\n",
        "    for x in range(ukuran):\n",
        "        data=int(input('Masukkan data ke - '+str(x)+' : '))\n",
        "        list.append(data)\n",
        "    return list\n",
        "    \n",
        "def isPrime(nomer):\n",
        "    nilai=0\n",
        "    for y in range (1,nomer+1):\n",
        "        if nomer%y==0:\n",
        "            nilai+=1\n",
        "    if nilai==2:\n",
        "        return True\n",
        "    else:\n",
        "        return False\n",
        "        \n",
        "def createListPrime(list):\n",
        "    prima=[]\n",
        "    for z in range (len(list)):\n",
        "         isprime=isPrime(list[z])\n",
        "         if isprime==True:\n",
        "             if list[z] not in prima:\n",
        "                 prima.append(list[z])\n",
        "    return prima\n",
        "    \n",
        "data=createList(15)\n",
        "print('data list = ',data)\n",
        "prima=createListPrime(data)\n",
        "print('data prima = ',prima)"
      ],
      "metadata": {
        "id": "N_889czU9qBZ",
        "colab": {
          "base_uri": "https://localhost:8080/"
        },
        "outputId": "24331c70-b4a7-4824-e09c-4259dbbf8da7"
      },
      "execution_count": null,
      "outputs": [
        {
          "output_type": "stream",
          "name": "stdout",
          "text": [
            "Masukkan data ke - 0 : 8\n",
            "Masukkan data ke - 1 : 1\n",
            "Masukkan data ke - 2 : 2\n",
            "Masukkan data ke - 3 : 6\n",
            "Masukkan data ke - 4 : 3\n",
            "Masukkan data ke - 5 : 5\n",
            "Masukkan data ke - 6 : 2\n",
            "Masukkan data ke - 7 : 9\n",
            "Masukkan data ke - 8 : 0\n",
            "Masukkan data ke - 9 : 11\n",
            "Masukkan data ke - 10 : 3\n",
            "Masukkan data ke - 11 : 2\n",
            "Masukkan data ke - 12 : 7\n",
            "Masukkan data ke - 13 : 9\n",
            "Masukkan data ke - 14 : 1\n",
            "data list =  [8, 1, 2, 6, 3, 5, 2, 9, 0, 11, 3, 2, 7, 9, 1]\n",
            "data prima =  [2, 3, 5, 11, 7]\n"
          ]
        }
      ]
    },
    {
      "cell_type": "markdown",
      "source": [
        "#2.2 Operasi List"
      ],
      "metadata": {
        "id": "l0THyLuQ6NMN"
      }
    },
    {
      "cell_type": "markdown",
      "source": [
        "Buatlah Fungsi dan code untuk memanggil fungsi dengan menggunakan Python, antara lain :\n",
        "\n",
        "- Fungsi createList untuk membentuk suatu list dengan parameter atau argumen berupa ukuran list\n",
        "\n",
        "- Fungsi avgList untuk menghitung rata-rata suatu list, dengan argumen adalah list\n",
        "\n",
        "- Fungsi addList untuk menjumlahkan dua buah list yang memiliki ukuran yang sama\n",
        "\n",
        "Contoh output yang dihasilkan dapat dilihat pada Gambar 2."
      ],
      "metadata": {
        "id": "dh0jhcb-6f9H"
      }
    },
    {
      "cell_type": "code",
      "source": [
        "# (a) Ukuran List tidak sama\n",
        "\n",
        "def createList(x):\n",
        "    list=[]\n",
        "    for i in range(x):\n",
        "        list.append(int(input('Masukkan data ke - '+str(i)+' : ')))\n",
        "    return list\n",
        "    \n",
        "def avgList(y):\n",
        "    c=0\n",
        "    for i in y:\n",
        "        c+=i\n",
        "        rata2=c/len(y)\n",
        "    return rata2\n",
        "    \n",
        "def addList(m,n):\n",
        "    hasil=[]\n",
        "    if len(m) == len(n):\n",
        "        for i in range(len(m)):\n",
        "            jumlah=m[i]+n[i]\n",
        "            hasil.append(jumlah)\n",
        "        return hasil\n",
        "    else:\n",
        "        return('Ukuran List Tidak Sama')\n",
        "        \n",
        "data1=createList(4)\n",
        "print('data - 1 = ',data1,' ; rata-rata list = ',avgList(data1))\n",
        "data2=createList(5)\n",
        "print('data - 2 = ',data2,' ; rata-rata list = ',avgList(data2))\n",
        "hasil=addList(data1,data2)\n",
        "print(data1,'+',data2,'=',hasil)"
      ],
      "metadata": {
        "id": "LpDqD77W-czh",
        "colab": {
          "base_uri": "https://localhost:8080/"
        },
        "outputId": "75554aaa-fde1-4d1f-b683-7cc24bc76d80"
      },
      "execution_count": null,
      "outputs": [
        {
          "output_type": "stream",
          "name": "stdout",
          "text": [
            "Masukkan data ke - 0 : 4\n",
            "Masukkan data ke - 1 : 1\n",
            "Masukkan data ke - 2 : 2\n",
            "Masukkan data ke - 3 : 4\n",
            "data - 1 =  [4, 1, 2, 4]  ; rata-rata list =  2.75\n",
            "Masukkan data ke - 0 : 4\n",
            "Masukkan data ke - 1 : 7\n",
            "Masukkan data ke - 2 : 5\n",
            "Masukkan data ke - 3 : 3\n",
            "Masukkan data ke - 4 : 8\n",
            "data - 2 =  [4, 7, 5, 3, 8]  ; rata-rata list =  5.4\n",
            "[4, 1, 2, 4] + [4, 7, 5, 3, 8] = Ukuran List Tidak Sama\n"
          ]
        }
      ]
    },
    {
      "cell_type": "code",
      "source": [
        "# (b) Ukuran List Sama\n",
        "\n",
        "def createList(x):\n",
        "    list=[]\n",
        "    for i in range(x):\n",
        "        list.append(int(input('Masukkan data ke - '+str(i)+' : ')))\n",
        "    return list\n",
        "    \n",
        "def avgList(y):\n",
        "    c=0\n",
        "    for i in y:\n",
        "        c+=i\n",
        "        rata2=c/len(y)\n",
        "    return rata2\n",
        "    \n",
        "def addList(m,n):\n",
        "    hasil=[]\n",
        "    if len(m) == len(n):\n",
        "        for i in range(len(m)):\n",
        "            jumlah=m[i]+n[i]\n",
        "            hasil.append(jumlah)\n",
        "        return hasil\n",
        "    else:\n",
        "        return('Ukuran List Tidak Sama')\n",
        "        \n",
        "data1=createList(6)\n",
        "print('data - 1 = ',data1,' ; rata-rata list = ',avgList(data1))\n",
        "data2=createList(6)\n",
        "print('data - 2 = ',data2,' ; rata-rata list = ',avgList(data2))\n",
        "hasil=addList(data1,data2)\n",
        "print(data1,'+',data2,'=',hasil)"
      ],
      "metadata": {
        "id": "Fg3bHcmT_HQh",
        "colab": {
          "base_uri": "https://localhost:8080/"
        },
        "outputId": "c08670a3-7a00-44bb-ed7b-fc84b1c8771b"
      },
      "execution_count": null,
      "outputs": [
        {
          "output_type": "stream",
          "name": "stdout",
          "text": [
            "Masukkan data ke - 0 : 4\n",
            "Masukkan data ke - 1 : 2\n",
            "Masukkan data ke - 2 : 4\n",
            "Masukkan data ke - 3 : 7\n",
            "Masukkan data ke - 4 : 8\n",
            "Masukkan data ke - 5 : 2\n",
            "data - 1 =  [4, 2, 4, 7, 8, 2]  ; rata-rata list =  4.5\n",
            "Masukkan data ke - 0 : 1\n",
            "Masukkan data ke - 1 : 4\n",
            "Masukkan data ke - 2 : 10\n",
            "Masukkan data ke - 3 : 4\n",
            "Masukkan data ke - 4 : 5\n",
            "Masukkan data ke - 5 : 6\n",
            "data - 2 =  [1, 4, 10, 4, 5, 6]  ; rata-rata list =  5.0\n",
            "[4, 2, 4, 7, 8, 2] + [1, 4, 10, 4, 5, 6] = [5, 6, 14, 11, 13, 8]\n"
          ]
        }
      ]
    },
    {
      "cell_type": "code",
      "source": [
        "# (c) Ukuran List sama dan dilakukan\n",
        "# Operasi Penjumlahan Kembali\n",
        "\n",
        "def createList(x):\n",
        "    list=[]\n",
        "    for i in range(x):\n",
        "        list.append(int(input('Masukkan data ke - '+str(i)+' : ')))\n",
        "    return list\n",
        "    \n",
        "def avgList(y):\n",
        "    c=0\n",
        "    for i in y:\n",
        "        c+=i\n",
        "        rata2=c/len(y)\n",
        "    return rata2\n",
        "    \n",
        "def addList(m,n):\n",
        "    hasil=[]\n",
        "    if len(m) == len(n):\n",
        "        for i in range(len(m)):\n",
        "            jumlah=m[i]+n[i]\n",
        "            hasil.append(jumlah)\n",
        "        return hasil\n",
        "    else:\n",
        "        return('Ukuran List Tidak Sama')\n",
        "        \n",
        "data1=createList(3)\n",
        "print('data - 1 = ',data1,' ; rata-rata list = ',avgList(data1))\n",
        "data2=createList(3)\n",
        "print('data - 2 = ',data2,' ; rata-rata list = ',avgList(data2))\n",
        "hasil=addList(data1,data2)\n",
        "hasil2=addList(hasil,hasil)\n",
        "print(data1,'+',data2,'=',hasil)\n",
        "print(hasil,'+',hasil,'=',hasil2)"
      ],
      "metadata": {
        "id": "TcGziI-J_3UV",
        "colab": {
          "base_uri": "https://localhost:8080/"
        },
        "outputId": "a5effc5c-5aec-4a05-d77a-41f59fa666eb"
      },
      "execution_count": null,
      "outputs": [
        {
          "output_type": "stream",
          "name": "stdout",
          "text": [
            "Masukkan data ke - 0 : 2\n",
            "Masukkan data ke - 1 : 3\n",
            "Masukkan data ke - 2 : 4\n",
            "data - 1 =  [2, 3, 4]  ; rata-rata list =  3.0\n",
            "Masukkan data ke - 0 : 2\n",
            "Masukkan data ke - 1 : 6\n",
            "Masukkan data ke - 2 : 7\n",
            "data - 2 =  [2, 6, 7]  ; rata-rata list =  5.0\n",
            "[2, 3, 4] + [2, 6, 7] = [4, 9, 11]\n",
            "[4, 9, 11] + [4, 9, 11] = [8, 18, 22]\n"
          ]
        }
      ]
    },
    {
      "cell_type": "markdown",
      "source": [
        "#2.3 List Comprehension"
      ],
      "metadata": {
        "id": "D3mzHn4u7BkF"
      }
    },
    {
      "cell_type": "markdown",
      "source": [
        "#2.3.1 Konsep\n",
        "Jelaskan yang dimaksud dengan list comprehension, dan berikan contohnya"
      ],
      "metadata": {
        "id": "a-jHB-gL7EXf"
      }
    },
    {
      "cell_type": "markdown",
      "source": [
        "Jawab:\n",
        "\n",
        "List comprehension merupakan operator yang ada pada python yang fungsinya untuk mempersingkat sebuah proses inisialisasi."
      ],
      "metadata": {
        "id": "Pr56J8aZHiLP"
      }
    },
    {
      "cell_type": "code",
      "source": [
        "#Contoh List Comprehension\n",
        "\n",
        "buah=['apel','pisang','durian','mangga','semangka']\n",
        "\n",
        "newList=[x for x in buah if 's' in x]\n",
        "\n",
        "print(newList)"
      ],
      "metadata": {
        "id": "sbReiKvfHrMA",
        "colab": {
          "base_uri": "https://localhost:8080/"
        },
        "outputId": "82a9e90d-6342-42bb-81b6-420cfcd093a4"
      },
      "execution_count": null,
      "outputs": [
        {
          "output_type": "stream",
          "name": "stdout",
          "text": [
            "['pisang', 'semangka']\n"
          ]
        }
      ]
    },
    {
      "cell_type": "markdown",
      "source": [
        "#2.3.2 Garis Lurus\n",
        "Buatlah fungsi dengan return value berupa list (y), dimana list tersebut dibuat dengan menggunakan list\n",
        "comprehension yang menghasilkan koordinat y dari suatu garis lurus dengan persamaan y = mx+c, dimana\n",
        ":\n",
        "- x adalah list yang telah diketahui\n",
        "- m adalah gradient, dan c adalah konstanta\n",
        "- x, m, c adalah parameter fungsi\n",
        "\n",
        "Contoh output yang dihasilkan dapat dilhat pada Gambar 3"
      ],
      "metadata": {
        "id": "-Z3lyyjD7L0q"
      }
    },
    {
      "cell_type": "code",
      "source": [
        "# (a)\n",
        "\n",
        "x=[3,4,1,2,5]\n",
        "def koordinatY(a,b,c):\n",
        "    yk=[x[i]*b+c for i in range (len(x))]\n",
        "    return yk\n",
        "y=koordinatY(x,3,2)\n",
        "print(x)\n",
        "print(y)"
      ],
      "metadata": {
        "id": "Cc34C8D2Y11n",
        "colab": {
          "base_uri": "https://localhost:8080/"
        },
        "outputId": "55e6e4a7-d628-41ba-dfe8-573f5ed6f71b"
      },
      "execution_count": null,
      "outputs": [
        {
          "output_type": "stream",
          "name": "stdout",
          "text": [
            "[3, 4, 1, 2, 5]\n",
            "[11, 14, 5, 8, 17]\n"
          ]
        }
      ]
    },
    {
      "cell_type": "code",
      "source": [
        "# (b)\n",
        "\n",
        "x=[3,4,1,2,5]\n",
        "def koordinatY(a,b,c):\n",
        "    yk=[x[i]*b+c for i in range (len(x))]\n",
        "    return yk\n",
        "y=koordinatY(x,2,4)\n",
        "print(x)\n",
        "print(y)"
      ],
      "metadata": {
        "id": "vdk1PzeSY8X6",
        "colab": {
          "base_uri": "https://localhost:8080/"
        },
        "outputId": "911abb1a-6c6c-40da-c365-24f9b6b04fb1"
      },
      "execution_count": null,
      "outputs": [
        {
          "output_type": "stream",
          "name": "stdout",
          "text": [
            "[3, 4, 1, 2, 5]\n",
            "[10, 12, 6, 8, 14]\n"
          ]
        }
      ]
    }
  ]
}