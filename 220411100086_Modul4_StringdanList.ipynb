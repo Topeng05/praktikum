{
  "nbformat": 4,
  "nbformat_minor": 0,
  "metadata": {
    "colab": {
      "provenance": [],
      "collapsed_sections": [],
      "authorship_tag": "ABX9TyNX7g8KRzYZkOwf+6ezH+Ig",
      "include_colab_link": true
    },
    "kernelspec": {
      "name": "python3",
      "display_name": "Python 3"
    },
    "language_info": {
      "name": "python"
    }
  },
  "cells": [
    {
      "cell_type": "markdown",
      "metadata": {
        "id": "view-in-github",
        "colab_type": "text"
      },
      "source": [
        "<a href=\"https://colab.research.google.com/github/Topeng05/praktikum/blob/main/220411100086_Modul4_StringdanList.ipynb\" target=\"_parent\"><img src=\"https://colab.research.google.com/assets/colab-badge.svg\" alt=\"Open In Colab\"/></a>"
      ]
    },
    {
      "cell_type": "markdown",
      "source": [
        "#1 Konsep String"
      ],
      "metadata": {
        "id": "rzK_CSg_yLK4"
      }
    },
    {
      "cell_type": "markdown",
      "source": [
        "Tulis ringkasan atau penjelasan hal-hal berikut, dengan kata-kata kalian sendiri :\n",
        "1. Pengertian variabel dengan type data String, dan berikan contoh\n",
        "2. Pengaksesan variabel yang bertipe string (jelaskan offset, dan pengaksesan setiap anggota yang terdapat pada string), dan berikan contoh"
      ],
      "metadata": {
        "id": "RVEVpiuNySU2"
      }
    },
    {
      "cell_type": "markdown",
      "source": [
        "Jawab:\n",
        "\n",
        "1. String dalam bahasa pemrograman\n",
        "Python disebut sebagai kumpulan karakter yang dikelilingi oleh tanda petik,\n",
        "baik itu menggunakan tanda petik tunggal (‘ ‘) maupun petik ganda (“ “) namun\n",
        "tidak dapat di kombinasikan."
      ],
      "metadata": {
        "id": "I4GzOa9zTlaD"
      }
    },
    {
      "cell_type": "code",
      "source": [
        "#Contoh string\n",
        "\n",
        "#Benar\n",
        "print('Trunojoyo')\n",
        "print(\"Trunojoyo\")"
      ],
      "metadata": {
        "colab": {
          "base_uri": "https://localhost:8080/"
        },
        "id": "vijswib5UGJX",
        "outputId": "d3c98348-ac98-4843-bf95-30791c646969"
      },
      "execution_count": null,
      "outputs": [
        {
          "output_type": "stream",
          "name": "stdout",
          "text": [
            "Trunojoyo\n",
            "Trunojoyo\n"
          ]
        }
      ]
    },
    {
      "cell_type": "code",
      "source": [
        "#Salah\n",
        "print('Trunojoyo\")\n",
        "print(\"Trunojoyo')"
      ],
      "metadata": {
        "colab": {
          "base_uri": "https://localhost:8080/",
          "height": 166
        },
        "id": "PcGU4QwgYAlh",
        "outputId": "a7a4dc6e-14cf-4573-879c-937a29995720"
      },
      "execution_count": null,
      "outputs": [
        {
          "output_type": "error",
          "ename": "SyntaxError",
          "evalue": "ignored",
          "traceback": [
            "\u001b[0;36m  File \u001b[0;32m\"<ipython-input-4-033ea1202893>\"\u001b[0;36m, line \u001b[0;32m2\u001b[0m\n\u001b[0;31m    print('Trunojoyo\")\u001b[0m\n\u001b[0m                      ^\u001b[0m\n\u001b[0;31mSyntaxError\u001b[0m\u001b[0;31m:\u001b[0m EOL while scanning string literal\n"
          ]
        }
      ]
    },
    {
      "cell_type": "markdown",
      "source": [
        " 2. Di dalam string terdapat sebuah offset atau biasa disebut dengan index. Index sendiri selalu dimulai dari angka nol (0). Saat kita ingin mengakses sebuah string, dapat dilakukan dengan menambahkan kurung siku ([]) setelah nama variabel.\n",
        "\n",
        "- Misal terdapat sebuah string : \n",
        "'Bangkalan' Karena offset dimulai dari nol maka didapatkan B=0 a=1 n=2 g=3 k=4 a=5 l=6 a=7 n=8, namun saat kita mengimplementasikan nya ke dalam code, maka saat kita ingin mengakses offset awal-akhir harus ditambah dengan 1 karena sebuah program python akan menampilkan output -1 jadi untuk mengaksesnya kita tuliskan data [0:9] bukan [0:8]"
      ],
      "metadata": {
        "id": "wYZWANf9U035"
      }
    },
    {
      "cell_type": "code",
      "source": [
        "data='Bangkalan'\n",
        "\n",
        "#akses semua data\n",
        "print(data)\n",
        "print(data[0:9])\n",
        "print(data[:9])\n",
        "print(data[:])\n",
        "\n",
        "#akses sebagian data\n",
        "print(data[1],data[5])\n",
        "print(data[3],data[7])\n",
        "\n",
        "#akses data yang ke\n",
        "print(data[2:8])\n",
        "print(data[2:])\n",
        "print(data[:-1])"
      ],
      "metadata": {
        "colab": {
          "base_uri": "https://localhost:8080/"
        },
        "id": "6NVwKWv3WdiT",
        "outputId": "94869036-0416-4309-8e76-1903b12384b4"
      },
      "execution_count": null,
      "outputs": [
        {
          "output_type": "stream",
          "name": "stdout",
          "text": [
            "Bangkalan\n",
            "Bangkalan\n",
            "Bangkalan\n",
            "Bangkalan\n",
            "a a\n",
            "g a\n",
            "ngkala\n",
            "ngkalan\n",
            "Bangkala\n"
          ]
        }
      ]
    },
    {
      "cell_type": "markdown",
      "source": [
        "#2 Implementasi"
      ],
      "metadata": {
        "id": "7m_ZCFwRyYsy"
      }
    },
    {
      "cell_type": "markdown",
      "source": [
        "#2.1 Offset Karakter\n",
        "Buatlah flowchart untuk mencari indeks/offset dari suatu karakter atau huruf pada suatu kalimat, dengan\n",
        "ketentuan:\n",
        "\n",
        "- kalimat merupakan inputan dari user.\n",
        "\n",
        "- huruf yang dicari merupakan inputan dari user.\n",
        "\n",
        "- huruf kapital (huruf besar) dan huruf kecil dianggap sama.\n",
        "\n",
        "Implementasikan flowchart tersebut dengan bahasa Python, dan contoh output sesuai dengan Gambar 1."
      ],
      "metadata": {
        "id": "mxj3TBlDye2J"
      }
    },
    {
      "cell_type": "markdown",
      "source": [
        "![image.png](data:image/png;base64,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)"
      ],
      "metadata": {
        "id": "uDUkmXFh2x5V"
      }
    },
    {
      "cell_type": "code",
      "source": [
        "kalimat=input('masukkan kalimat = ').lower()\n",
        "huruf=input('masukkan huruf yang dicari = ').lower()\n",
        "count=0\n",
        "for i in range (len(kalimat)):\n",
        "    if huruf in kalimat[i]:\n",
        "        count=count+1\n",
        "        print('huruf',huruf,'atau huruf',huruf.upper(),'ke-',count,': offset -',i)"
      ],
      "metadata": {
        "id": "FYU7yuXpqI38",
        "colab": {
          "base_uri": "https://localhost:8080/"
        },
        "outputId": "b21fd2d7-ae56-4eee-b3bf-5715fd9d3516"
      },
      "execution_count": null,
      "outputs": [
        {
          "output_type": "stream",
          "name": "stdout",
          "text": [
            "masukkan kalimat = Universitas Trunojoyo Madura\n",
            "masukkan huruf yang dicari = t\n",
            "huruf t atau huruf T ke- 1 : offset - 8\n",
            "huruf t atau huruf T ke- 2 : offset - 12\n"
          ]
        }
      ]
    },
    {
      "cell_type": "markdown",
      "source": [
        "#2.2 Konversi Bilangan\n",
        "Buatlah code menu untuk konversi bilangan dari Desimal ke Biner dan sebaliknya, yaitu :\n",
        "\n",
        "- pilihan 1: Desimal ke Biner (input Desimal, output Biner)\n",
        "\n",
        "- pilihan 2: Biner ke Desimal (input Biner, output Desimal)\n",
        "\n",
        "- menu lagi, apakah user akan mengulangi operasi ataukah berhenti\n",
        "\n",
        "Contoh output dapat dilihat pada Gambar 2."
      ],
      "metadata": {
        "id": "c0tdix7vzwIr"
      }
    },
    {
      "cell_type": "code",
      "source": [
        "stop=True\n",
        "while stop:\n",
        "    print('============================================================')\n",
        "    print('Menu')\n",
        "    print('Tekan 1 untuk konversi Desimal ke Biner')\n",
        "    print('Tekan 2 untuk konversi Biner ke Desimal')\n",
        "    pilihmenu=int(input('masukkan pilihan anda = '))\n",
        "    if pilihmenu==1:\n",
        "      x=int(input('Masukkan Desimal = '))\n",
        "      z=''\n",
        "      while x != 0 :\n",
        "        z=z+str(x%2)\n",
        "        x=x//2\n",
        "      for i in range (len(z)-1,-1,-1):\n",
        "        print(z[i],end='')\n",
        "    elif pilihmenu <= 2:\n",
        "        x=input('Masukkan Biner = ')\n",
        "        pangkat=0\n",
        "        hasil=0\n",
        "        for i in range (len(x)-1,-1,-1):\n",
        "            hasil=hasil+int(x[i])*2**pangkat\n",
        "            pangkat=pangkat+1\n",
        "        print('bilangan desimal =',hasil)\n",
        "    done=input('Ingin mengulangi operasi kembali (y/t) ?').lower()\n",
        "    if done=='t':\n",
        "        stop=False"
      ],
      "metadata": {
        "colab": {
          "base_uri": "https://localhost:8080/"
        },
        "id": "yCWmIjHBpKfo",
        "outputId": "191276c3-24ea-4ac6-ef25-37eebf6f1bd8"
      },
      "execution_count": null,
      "outputs": [
        {
          "name": "stdout",
          "output_type": "stream",
          "text": [
            "============================================================\n",
            "Menu\n",
            "Tekan 1 untuk konversi Desimal ke Biner\n",
            "Tekan 2 untuk konversi Biner ke Desimal\n",
            "masukkan pilihan anda = 1\n",
            "Masukkan Desimal = 10\n",
            "1010Ingin mengulangi operasi kembali (y/t) ?y\n",
            "============================================================\n",
            "Menu\n",
            "Tekan 1 untuk konversi Desimal ke Biner\n",
            "Tekan 2 untuk konversi Biner ke Desimal\n",
            "masukkan pilihan anda = 2\n",
            "Masukkan Biner = 1010\n",
            "bilangan desimal = 10\n",
            "Ingin mengulangi operasi kembali (y/t) ?t\n"
          ]
        }
      ]
    },
    {
      "cell_type": "markdown",
      "source": [
        "#2.3 Fungsi Matematika\n",
        "Terdapat fungsi matematika berikut ini :\n",
        "$$ f(x) = \\sum_{i=1}^n (xi − \\bar{x})\n",
        "$$\n",
        "$$ \\bar{x} = 1/n \\sum_{i=1}^n (xi)\n",
        "$$\n",
        "dimana x merupakan list dengan n buah anggota numerik dengan indeks dimulai dari 1. Contoh output dari\n",
        "fungsi matematika tersebut dapat dilihat pada Gambar 3"
      ],
      "metadata": {
        "id": "hSXoX-DE0FX9"
      }
    },
    {
      "cell_type": "code",
      "source": [
        "data=[]\n",
        "list=int(input('Masukkan jumlah data = '))\n",
        "for i in range (list):\n",
        "    x=int(input('masukkan data = '))\n",
        "    data.append(x)\n",
        "xbar=0\n",
        "fx=0\n",
        "for i in data:\n",
        "    xbar+=i\n",
        "xbar/=len(data)\n",
        "for i in data:\n",
        "    fx+=i-xbar\n",
        "print(f'x={data}\\nxbar={float(xbar)}\\nfx={float(fx)}')"
      ],
      "metadata": {
        "colab": {
          "base_uri": "https://localhost:8080/"
        },
        "id": "knkYONLGEz69",
        "outputId": "5bf8e061-de1d-47e1-fc26-bfc496c4027e"
      },
      "execution_count": null,
      "outputs": [
        {
          "output_type": "stream",
          "name": "stdout",
          "text": [
            "Masukkan jumlah data = 5\n",
            "masukkan data = 10\n",
            "masukkan data = 10\n",
            "masukkan data = 5\n",
            "masukkan data = 10\n",
            "masukkan data = 10\n",
            "x=[10, 10, 5, 10, 10]\n",
            "xbar=9.0\n",
            "fx=0.0\n"
          ]
        }
      ]
    }
  ]
}