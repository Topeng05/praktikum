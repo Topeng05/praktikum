{
  "nbformat": 4,
  "nbformat_minor": 0,
  "metadata": {
    "colab": {
      "provenance": [],
      "authorship_tag": "ABX9TyPAcq8iuzTQdbpHvuKelvS9",
      "include_colab_link": true
    },
    "kernelspec": {
      "name": "python3",
      "display_name": "Python 3"
    },
    "language_info": {
      "name": "python"
    }
  },
  "cells": [
    {
      "cell_type": "markdown",
      "metadata": {
        "id": "view-in-github",
        "colab_type": "text"
      },
      "source": [
        "<a href=\"https://colab.research.google.com/github/Topeng05/praktikum/blob/main/220411100086_Modul5_ListdanTuple.ipynb\" target=\"_parent\"><img src=\"https://colab.research.google.com/assets/colab-badge.svg\" alt=\"Open In Colab\"/></a>"
      ]
    },
    {
      "cell_type": "markdown",
      "source": [
        "#1 Konsep String, List, dan Tuple"
      ],
      "metadata": {
        "id": "6PFu68eCOxD2"
      }
    },
    {
      "cell_type": "markdown",
      "source": [
        "Tulis ringkasan atau penjelasan hal-hal berikut, dengan kata-kata kalian sendiri :\n",
        "1. Tuple, akses variabel yang bertipe tuple (jelaskan indeks, dan pengaksesan setiap anggota yang ter-\n",
        "dapat pada tuple) dan berikan contoh\n",
        "2. Perbedaan String, List, dan Tuple, dan berikan contoh kapan waktu yang tepat harus menggunakan\n",
        "tipe string, list, ataupun tuple\n",
        "3. List comprehension (syntax dan contohnya)"
      ],
      "metadata": {
        "id": "fdiN1wLFO5Wc"
      }
    },
    {
      "cell_type": "markdown",
      "source": [
        "Jawab :\n",
        "\n",
        "1. Tuple merupakan tipe data yang ada pada pemrograman python dan sifatnya tidak bisa diubah. Jadi jika kita membuat sebuah tipe data tuple, maka isi tuple tersebut tidak dapat diubah atau dimodifikasi kembali. Index pada tuple selalu dimulai dari 0 sampai ke-n. Tuple didefinisikan dengan simbol kurung buka dan kurung tutup (( )) lalu diikuti dengan elemen-elemen nilai di dalamnya. Dan untuk mengakses nilai di dalam tuple dibutuhkan simbol kurung siku ([ ])."
      ],
      "metadata": {
        "id": "RDqQ0odTRdBz"
      }
    },
    {
      "cell_type": "code",
      "source": [
        "#Contoh Tipe Data Tuple\n",
        "tup1 = ('Alpro','PTI',2021,2022)\n",
        "tup2 = (1,2,3,4,5)\n",
        "print ('tup1[0]:',tup1[0])\n",
        "print ('tup2[1:5]:',tup2[1:5])"
      ],
      "metadata": {
        "colab": {
          "base_uri": "https://localhost:8080/"
        },
        "id": "BlUgO7RzS4_a",
        "outputId": "a666754e-61d6-4a80-fce5-770c8ec4fb01"
      },
      "execution_count": null,
      "outputs": [
        {
          "output_type": "stream",
          "name": "stdout",
          "text": [
            "tup1[0]: Alpro\n",
            "tup2[1:5]: (2, 3, 4, 5)\n"
          ]
        }
      ]
    },
    {
      "cell_type": "markdown",
      "source": [
        "2. Perbedaan string, list, tuple\n",
        "- String\n",
        "\n",
        " String dalam bahasa pemrograman Python disebut sebagai kumpulan karakter yang dikelilingi oleh tanda petik, baik itu menggunakan tanda petik tunggal (‘ ‘) maupun petik ganda (“ “) namun tidak dapat di kombinasikan. String hanya digunakan saat kita hanya ingin menampilkan sebuah nilai atau data saja.\n",
        "\n",
        "- List\n",
        "\n",
        " List merupakan tipe data serbaguna pada bahasa python dengan daftar nilai dipisahkan dengan koma antara simbol kurung siku ([ ]) dan bersifat mutable. List sendiri biasanya digunakan untuk merekap dan merubah nama ataupun hasil nilai dari mahasiswa karena sifatnya yang dapat diubah.\n",
        "\n",
        "- Tuple\n",
        "\n",
        " Tuple merupakan tipe data yang ada pada pemrograman python yg bersifat imutable didefinisikan dengan simbol kurung buka dan kurung tutup (( )). Biasanya digunakan untuk key(kunci) pada dictonary karena key harus bersifat hasable (tidak bisa diubah)"
      ],
      "metadata": {
        "id": "4oxABtO9ZCjr"
      }
    },
    {
      "cell_type": "markdown",
      "source": [
        "3. List comprehension merupakan operator yang ada pada python yang fungsinya untuk mempersingkat sebuah proses inisialisasi.\n",
        "\n",
        " Syntax yang digunakan yakni :"
      ],
      "metadata": {
        "id": "JjrCgYbidYvK"
      }
    },
    {
      "cell_type": "code",
      "source": [
        "<variable-target> = [<kembalian> for <item> in <iterable>]"
      ],
      "metadata": {
        "id": "HxlCRtrogIme"
      },
      "execution_count": null,
      "outputs": []
    },
    {
      "cell_type": "markdown",
      "source": [
        "- Variable-target:\n",
        "\n",
        " Variable yang digunakan untuk menampung list yang telah dibuat.\n",
        "\n",
        "- Kembalian:\n",
        "\n",
        " Merupakan nilai yang akan dikembalikan sebagai elemen list. Dapat berupa nilai tetap, variable, maupun ekspresi untuk memproses nilai 'item'.\n",
        "\n",
        "- Item:\n",
        "\n",
        " Sebuah penampung nilai dari iterable pada tiap iterasi, nilai ini dapat digunakan sebagai ekspresi dalam kembalian.\n",
        "\n",
        "- Iterable:\n",
        "\n",
        " Adalah variable yang berisi kumpulan nilai (list, string, tuple, dll).\n",
        "\n",
        " Contohnya yakni :"
      ],
      "metadata": {
        "id": "NWHpxWlEgLWy"
      }
    },
    {
      "cell_type": "code",
      "source": [
        "buah=['apel','pisang','durian','mangga','semangka']\n",
        "\n",
        "newList=[x for x in buah if 's' in x]\n",
        "\n",
        "print(newList)"
      ],
      "metadata": {
        "colab": {
          "base_uri": "https://localhost:8080/"
        },
        "id": "TewhAeAYhuXK",
        "outputId": "0fe0d61c-93ef-4055-cb31-ad1d5d0f48b5"
      },
      "execution_count": null,
      "outputs": [
        {
          "output_type": "stream",
          "name": "stdout",
          "text": [
            "['pisang', 'semangka']\n"
          ]
        }
      ]
    },
    {
      "cell_type": "markdown",
      "source": [
        "#2 Implementasi"
      ],
      "metadata": {
        "id": "npQ0KAq5O-n8"
      }
    },
    {
      "cell_type": "markdown",
      "source": [
        "#2.1 Faktor Pembagi\n",
        "Buatlah code untuk mendapatkan faktor pembagi dari dua buah bilangan, dan faktor pembagi yang sama\n",
        "dari dua buah bilangan tersebut, dengan ketentuan sebagai berikut :\n",
        "• Dua bilangan yang akan dicari faktor pembaginya, adalah inputan dari user\n",
        "• Inputan ini setelah kata -in-\n",
        "• Output yang diinginkan ditampilkan setelah kata -out-\n",
        "Contoh tampilan yang harus dihasilkan, dapat dilihat pada Gambar 1."
      ],
      "metadata": {
        "id": "rrBXz7HrPSDn"
      }
    },
    {
      "cell_type": "code",
      "source": [
        "print('-in-')\n",
        "Bil1=int(input(''))\n",
        "Bil2=int(input(''))\n",
        "data=[]\n",
        "x=[]\n",
        "z=[]\n",
        "\n",
        "print('-out-')\n",
        "for i in range (1,Bil1+1):\n",
        "    if Bil1%i==0:\n",
        "         x.append(i)\n",
        "print(x)\n",
        "\n",
        "for i in range (1,Bil2+1):\n",
        "    if Bil2%i==0:\n",
        "        z.append(i)\n",
        "print(z)\n",
        "\n",
        "for i in range (1,Bil2+1):\n",
        "    if Bil1%i==0 and Bil2%i==0:\n",
        "        data.append(i)\n",
        "print(data)"
      ],
      "metadata": {
        "id": "nvwGB8fAxO0h",
        "outputId": "05c8aad3-6925-411b-a299-51df3ff2ee4b",
        "colab": {
          "base_uri": "https://localhost:8080/"
        }
      },
      "execution_count": null,
      "outputs": [
        {
          "output_type": "stream",
          "name": "stdout",
          "text": [
            "-in-\n",
            "81\n",
            "54\n",
            "-out-\n",
            "[1, 3, 9, 27, 81]\n",
            "[1, 2, 3, 6, 9, 18, 27, 54]\n",
            "[1, 3, 9, 27]\n"
          ]
        }
      ]
    },
    {
      "cell_type": "markdown",
      "source": [
        "#2.2 Penjumlahan List\n",
        "Buatlah code untuk menjumlahkan dua buah list, dengan ketentuan sebagai berikut :\n",
        "\n",
        "- banyaknya anggota dan anggota dari masing-masing adalah inputan dari list\n",
        "- inputan ini setelah kata -in-, dimana baris pertama adalah banyaknya anggota dari list, kemudian\n",
        "baris berikutnya adalah anggota atau nilai dari list tersebut\n",
        "- output yang diinginkan ditampilkan setelah kata -out-\n",
        "- Terdapat tiga buah skenario penjumlahan, yaitu ketika banyaknya anggota adalah sama, banyaknya\n",
        "anggota list pertama lebih banyak dari pada list kedua, dan banyaknya anggota list kedua lebih banyak\n",
        "dari pada list pertama.\n",
        "\n",
        "Contoh tampilan yang harus dihasilkan, dapat dilihat pada Gambar 2."
      ],
      "metadata": {
        "id": "KlHLGbBDPZ_u"
      }
    },
    {
      "cell_type": "code",
      "source": [
        "print('-in-')\n",
        "data1=[]\n",
        "list1=int(input(''))\n",
        "for i in range (list1):\n",
        "    x1=int(input('\\t'))\n",
        "    data1.append(x1)\n",
        "\n",
        "data2=[]\n",
        "list2=int(input(''))\n",
        "for i in range (list2):\n",
        "    x2=int(input('\\t'))\n",
        "    data2.append(x2)\n",
        "\n",
        "print('-out-')\n",
        "print(data1)\n",
        "print(data2)\n",
        "\n",
        "data3=[]    \n",
        "if len(data1) > len(data2):\n",
        "    lenmax=len(data1)\n",
        "    selisih=len(data1)-len(data2)\n",
        "    for a in range (selisih):\n",
        "        data2.append(a*0)\n",
        "        \n",
        "else:\n",
        "    lenmax=len(data2)\n",
        "    selisih=len(data2)-len(data1)\n",
        "    for a in range (selisih):\n",
        "        data1.append(a*0)\n",
        "        \n",
        "for i in range (lenmax):\n",
        "    res= data1[i] + data2[i]\n",
        "    data3.append(res)\n",
        "print (data3)"
      ],
      "metadata": {
        "colab": {
          "base_uri": "https://localhost:8080/"
        },
        "id": "6RqSC8ss7rDk",
        "outputId": "deb8ae4d-54d5-423f-ecb3-10d049574bb9"
      },
      "execution_count": null,
      "outputs": [
        {
          "output_type": "stream",
          "name": "stdout",
          "text": [
            "-in-\n",
            "4\n",
            "\t1\n",
            "\t2\n",
            "\t3\n",
            "\t4\n",
            "4\n",
            "\t4\n",
            "\t3\n",
            "\t2\n",
            "\t1\n",
            "-out-\n",
            "[1, 2, 3, 4]\n",
            "[4, 3, 2, 1]\n",
            "[5, 5, 5, 5]\n"
          ]
        }
      ]
    },
    {
      "cell_type": "markdown",
      "source": [
        "#2.3 Mendapatkan nama hari dari suatu tanggal\n",
        "Buatlah code dengan menggunakan Python mendapatkan nama hari (gunakan data dengan bentuk tuple),\n",
        "dengan ketentuan sebagai berikut\n",
        "\n",
        "- user memberikan informasi bahwa tanggal pertama bulan ini, jatuh pada hari tertentu\n",
        "- tanggal yang ingin dicari nama harinya, adalah inputan dari user\n",
        "- untuk melihat apakah output yang dihasilkan adalah benar, dapat dilihat di calender\n",
        "\n",
        "Petunjuk : untuk mendapatkan index dari suatu data tuple atau list, bisa digunakan perintah namaTuple.index(anggota).\n",
        "\n",
        "Contoh output yang dihasilkan dapat dilihat pada Gambar 3."
      ],
      "metadata": {
        "id": "fRCkf9szPws5"
      }
    },
    {
      "cell_type": "code",
      "source": [
        "data=('minggu','senin','selasa','rabu','kamis','jumat','sabtu')\n",
        "hari=input('Masukkan informasi, hari pertama bulan ini, jatuh pada hari : ').lower()\n",
        "tanggal=int(input('Masukkan tanggal yang ingin diketahui harinya : '))\n",
        "for i in range (len(data)):\n",
        "  if hari == data[i]:\n",
        "    x = tanggal + i\n",
        "x %= 7\n",
        "print('Tanggal',tanggal,'adalah hari',data[x-1].capitalize())"
      ],
      "metadata": {
        "colab": {
          "base_uri": "https://localhost:8080/"
        },
        "id": "f7ejJCWmRqu2",
        "outputId": "606a6caa-ac2e-498f-db69-6d1d5429a1d3"
      },
      "execution_count": null,
      "outputs": [
        {
          "output_type": "stream",
          "name": "stdout",
          "text": [
            "Masukkan informasi, hari pertama bulan ini, jatuh pada hari : Rabu\n",
            "Masukkan tanggal yang ingin diketahui harinya : 24\n",
            "Tanggal 24 adalah hari Jumat\n"
          ]
        }
      ]
    }
  ]
}