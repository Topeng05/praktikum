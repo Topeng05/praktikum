{
  "nbformat": 4,
  "nbformat_minor": 0,
  "metadata": {
    "colab": {
      "provenance": [],
      "authorship_tag": "ABX9TyOWNz92uapNi6B5bry8QESm",
      "include_colab_link": true
    },
    "kernelspec": {
      "name": "python3",
      "display_name": "Python 3"
    },
    "language_info": {
      "name": "python"
    }
  },
  "cells": [
    {
      "cell_type": "markdown",
      "metadata": {
        "id": "view-in-github",
        "colab_type": "text"
      },
      "source": [
        "<a href=\"https://colab.research.google.com/github/Topeng05/praktikum/blob/main/220411100086_Modul8_FungsiRekursifList2D.ipynb\" target=\"_parent\"><img src=\"https://colab.research.google.com/assets/colab-badge.svg\" alt=\"Open In Colab\"/></a>"
      ]
    },
    {
      "cell_type": "markdown",
      "source": [
        "#1 Fungsi Rekursif"
      ],
      "metadata": {
        "id": "DV3LIdnoW5UU"
      }
    },
    {
      "cell_type": "markdown",
      "source": [
        "#1.1 Penjumlahan List\n",
        "Buatlah Fungsi Rekursif untuk menjumlahkan semua anggota yang terdapat pada suatu list, dengan\n",
        "tampilan seperti yang ditunjukkan pada Gambar 1"
      ],
      "metadata": {
        "id": "owEnnH6HXAHa"
      }
    },
    {
      "cell_type": "code",
      "source": [
        "#Cara 1\n",
        "\n",
        "def sumList(data):\n",
        "    if len(data)==1:\n",
        "        return data.pop()\n",
        "    else:\n",
        "        popped = data.pop()\n",
        "        print(data, '+', popped)\n",
        "        return popped + sumList(data)\n",
        "  \n",
        "dataList = [4, 5, 7]\n",
        "print(sumList(dataList))"
      ],
      "metadata": {
        "colab": {
          "base_uri": "https://localhost:8080/"
        },
        "id": "bE-t_rD1ZcLt",
        "outputId": "4d8acfad-fd7f-4736-841b-8f95f2f36686"
      },
      "execution_count": null,
      "outputs": [
        {
          "output_type": "stream",
          "name": "stdout",
          "text": [
            "[4, 5] + 7\n",
            "[4] + 5\n",
            "16\n"
          ]
        }
      ]
    },
    {
      "cell_type": "code",
      "source": [
        "#Cara 2\n",
        "\n",
        "def sumList(a):\n",
        "    b=-1\n",
        "    if len(a) == 1:\n",
        "        return a[len(a)-1]\n",
        "    else:\n",
        "        print(str(a[:b])+' + '+str(a[len(a)-1]))\n",
        "        return a[len(a)-1]+sumList(a[:-1])\n",
        "        \n",
        "dataList = [4, 5, 7]\n",
        "print(sumList(dataList))"
      ],
      "metadata": {
        "colab": {
          "base_uri": "https://localhost:8080/"
        },
        "id": "B3tmumqBilH-",
        "outputId": "c1e32f20-82b3-42e0-a3ef-e9ee69a136b1"
      },
      "execution_count": null,
      "outputs": [
        {
          "output_type": "stream",
          "name": "stdout",
          "text": [
            "[4, 5] + 7\n",
            "[4] + 5\n",
            "16\n"
          ]
        }
      ]
    },
    {
      "cell_type": "markdown",
      "source": [
        "#1.2 Penjumlahan Karakter Angka di dalam String\n",
        "Buatlah Fungsi Rekursif untuk menjumlahan setiap digit karakter yang berupa angka di dalam sebuah\n",
        "string. [Hint] Gunakan fungsi string.isdigit() untuk pengecakan apakah karakter di dalam string adalah\n",
        "angka. Tampilan output dari fungsi ini dapat dilihat pada Gambar 2"
      ],
      "metadata": {
        "id": "QWX-B3ZHXLez"
      }
    },
    {
      "cell_type": "code",
      "source": [
        "def sumStringDigit(strNum):\n",
        "    if strNum.isdigit():\n",
        "        if len (strNum) == 1:\n",
        "            return int(strNum[len(strNum)-1])\n",
        "        else:\n",
        "            return int(strNum[len(strNum)-1])+sumStringDigit(strNum[:-1])\n",
        "    else:\n",
        "        return 'tidak dapat dikonversi menjadi angka'\n",
        "\n",
        "strNum = '42357'\n",
        "print(\"Total penjumlahan dari digit '\",strNum,\"' adalah\",sumStringDigit(strNum))"
      ],
      "metadata": {
        "id": "xs-RflA6EGD2",
        "outputId": "36aeebb0-a868-437f-a471-2d7442f3cc9f",
        "colab": {
          "base_uri": "https://localhost:8080/"
        }
      },
      "execution_count": null,
      "outputs": [
        {
          "output_type": "stream",
          "name": "stdout",
          "text": [
            "Total penjumlahan dari digit ' 42357 ' adalah 21\n"
          ]
        }
      ]
    },
    {
      "cell_type": "markdown",
      "source": [
        "#2 List2D"
      ],
      "metadata": {
        "id": "fCb2TiFkXNnd"
      }
    },
    {
      "cell_type": "markdown",
      "source": [
        "#2.1 Create List 2D\n",
        "Buatlah fungsi untuk membuat list 2D, dimana setiap anggotanya merupakan inputan dari user. Buatlah\n",
        "code agar memiliki tampilan seperti pada Gambar 3, dan return value berupa list2D."
      ],
      "metadata": {
        "id": "fUvuV9kfXR0r"
      }
    },
    {
      "cell_type": "code",
      "source": [
        "def createList2D(a,b):\n",
        "    baris=[]\n",
        "    for i in range (a):\n",
        "        kolom=[]\n",
        "        for k in range (b):\n",
        "            x='list ['+str(i)+','+str(k)+']'+' : '\n",
        "            user=int(input(x))\n",
        "            kolom.append(user)\n",
        "        baris.append(kolom)\n",
        "    return baris\n",
        "    \n",
        "mat1=createList2D(2,3)\n",
        "print(mat1)"
      ],
      "metadata": {
        "colab": {
          "base_uri": "https://localhost:8080/"
        },
        "id": "HXS2gqwTajQb",
        "outputId": "1c433c69-deab-4ca0-f93c-4ec26df4dce4"
      },
      "execution_count": null,
      "outputs": [
        {
          "output_type": "stream",
          "name": "stdout",
          "text": [
            "list [0,0] : 1\n",
            "list [0,1] : 3\n",
            "list [0,2] : 5\n",
            "list [1,0] : 2\n",
            "list [1,1] : 4\n",
            "list [1,2] : 6\n",
            "[[1, 3, 5], [2, 4, 6]]\n"
          ]
        }
      ]
    },
    {
      "cell_type": "markdown",
      "source": [
        "#2.2 Maks List 2D\n",
        "Buatlah fungsi untuk mencari nilai maksimum dari suatu list 2D, dengan ketentuan sebagai berikut :\n",
        "1. Terdapat dua Parameter yaitu list dan jenis maksimum\n",
        "2. Jenis maksimum hanya ada dua nilai : baris dan kolom\n",
        "\n",
        " (a) jenis=’baris’, yaitu mencari nilai maksimal di setiap kolom dari seluruh baris\n",
        "\n",
        " (b) jenis=’kolom’, yaitu mencari nilai maksimal di setiap baris dari seluruh kolom\n",
        "3. return value berupa list yang berisi nilai maksimal\n",
        "Buat code sehingga menghasilkan tampilan seperti yang ditunjukkan pada Gambar 4"
      ],
      "metadata": {
        "id": "jdla7QdHXXiX"
      }
    },
    {
      "cell_type": "code",
      "source": [
        "#(a) Jenis=Baris\n",
        "\n",
        "def maxList2D (maks,jenis):\n",
        "    if jenis == 'kolom':\n",
        "        maxBaris = []\n",
        "        for i in range (len(maks)):\n",
        "            n = 0\n",
        "            for j in range (len(maks[i])):\n",
        "                if n < (maks[i][j]):\n",
        "                    n = (maks[i][j])\n",
        "                else :\n",
        "                    n = n\n",
        "            maxBaris.append(n)\n",
        "        return maxBaris\n",
        "    elif jenis == 'baris':\n",
        "        maxKolom = []\n",
        "        j = 0\n",
        "        stop = False\n",
        "        while not(stop):\n",
        "            i = 0\n",
        "            n = 0\n",
        "            berhenti = False\n",
        "            while not(berhenti):\n",
        "                if n < (maks[i][j]):\n",
        "                    n = (maks[i][j])\n",
        "                else :\n",
        "                    n = n\n",
        "                i += 1\n",
        "                if i == 3:\n",
        "                    berhenti = True\n",
        "            maxKolom.append(n)\n",
        "            j += 1\n",
        "            if j > len(maks[0])-1:\n",
        "                stop = True\n",
        "        return maxKolom\n",
        "        \n",
        "data = [[1, 5, 8, 3],[5, 2, 9, 2],[10, 1, 3, 14]]\n",
        "maksList = maxList2D(data,'baris')\n",
        "print (data)\n",
        "print (maksList)"
      ],
      "metadata": {
        "colab": {
          "base_uri": "https://localhost:8080/"
        },
        "id": "zNktMxXTHtvp",
        "outputId": "0bc9a6d8-7b24-4d8b-f9d5-8c9e22d8ec42"
      },
      "execution_count": null,
      "outputs": [
        {
          "output_type": "stream",
          "name": "stdout",
          "text": [
            "[[1, 5, 8, 3], [5, 2, 9, 2], [10, 1, 3, 14]]\n",
            "[10, 5, 9, 14]\n"
          ]
        }
      ]
    },
    {
      "cell_type": "code",
      "source": [
        "#(b) Jenis=Kolom\n",
        "\n",
        "def maxList2D (maks,jenis):\n",
        "    if jenis == 'kolom':\n",
        "        maxBaris = []\n",
        "        for i in range (len(maks)):\n",
        "            n = 0\n",
        "            for j in range (len(maks[i])):\n",
        "                if n < (maks[i][j]):\n",
        "                    n = (maks[i][j])\n",
        "                else :\n",
        "                    n = n\n",
        "            maxBaris.append(n)\n",
        "        return maxBaris\n",
        "    elif jenis == 'baris':\n",
        "        maxKolom = []\n",
        "        j = 0\n",
        "        stop = False\n",
        "        while not(stop):\n",
        "            i = 0\n",
        "            n = 0\n",
        "            berhenti = False\n",
        "            while not(berhenti):\n",
        "                if n < (maks[i][j]):\n",
        "                    n = (maks[i][j])\n",
        "                else :\n",
        "                    n = n\n",
        "                i += 1\n",
        "                if i == 3:\n",
        "                    berhenti = True\n",
        "            maxKolom.append(n)\n",
        "            j += 1\n",
        "            if j > len(maks[0])-1:\n",
        "                stop = True\n",
        "        return maxKolom\n",
        "        \n",
        "data = [[1, 5, 8, 3],[5, 2, 9, 2],[10, 1, 3, 14]]\n",
        "maksList = maxList2D(data,'kolom')\n",
        "print (data)\n",
        "print (maksList)"
      ],
      "metadata": {
        "colab": {
          "base_uri": "https://localhost:8080/"
        },
        "id": "GsRV01uiH4X-",
        "outputId": "a7ac10b8-ca74-45c4-a781-916a855db6a9"
      },
      "execution_count": null,
      "outputs": [
        {
          "output_type": "stream",
          "name": "stdout",
          "text": [
            "[[1, 5, 8, 3], [5, 2, 9, 2], [10, 1, 3, 14]]\n",
            "[8, 9, 14]\n"
          ]
        }
      ]
    }
  ]
}